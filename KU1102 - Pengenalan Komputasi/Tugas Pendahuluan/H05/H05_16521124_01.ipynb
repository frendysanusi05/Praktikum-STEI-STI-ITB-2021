{
 "cells": [
  {
   "cell_type": "code",
   "execution_count": 1,
   "id": "e15f308d-af22-4dac-a3a4-8709414caa1c",
   "metadata": {},
   "outputs": [],
   "source": [
    "# NIM/Nama : 16521124/Frendy Sanusi\n",
    "# Tanggal : 1 Desember 2021\n",
    "# Deskripsi : Problem 1 - Tugas Pendahuluan #5 Analisa dan Visualisasi Data\n",
    "                        # 1. Menghitung banyaknya data\n",
    "                        # 2. Mencari 10 data pertama\n",
    "                        # 3. Mencari data ke 50 sampai 60 (inklusif: data ke-50, data ke-51, . . . , data ke-60).\n",
    "                        # 4. Menghitung banyaknya mahasiswa tiap fakultas.\n",
    "                        # 5. Menghitung nilai korelasi antara nilai fisika dan kimia serta menjelaskan apakah berkorelasi lurus, terbalik, atau tidak berkolerasi"
   ]
  },
  {
   "cell_type": "code",
   "execution_count": 2,
   "id": "128e5f44-2a67-47a8-85c8-2d15962eadca",
   "metadata": {},
   "outputs": [],
   "source": [
    "# Import library yang dibutuhkan\n",
    "import pandas as pd"
   ]
  },
  {
   "cell_type": "code",
   "execution_count": 3,
   "id": "e1541bf3-f47f-4667-94bd-c7b3aed43f86",
   "metadata": {},
   "outputs": [
    {
     "name": "stdout",
     "output_type": "stream",
     "text": [
      "                          nama fakultas  nilai_mat  nilai_kim  nilai_fis\n",
      "0         Farhan Fathur Rahman    FMIPA      57.21      34.14      38.93\n",
      "1               Steven Margono    FMIPA      67.43      51.50      57.20\n",
      "2                 Ryan Sentosa    SAPPK      90.62      37.38      40.73\n",
      "3         Muhajah Babny Muslim    FMIPA      72.31      38.80      44.79\n",
      "4             Alvin Natawiguna     FTSL      65.45      57.67      56.39\n",
      "...                        ...      ...        ...        ...        ...\n",
      "5130               Khoirrashif    SITHR      66.14      46.82      56.74\n",
      "5131      Jefri Hendri Adriano     FTSL      53.68      34.74      33.76\n",
      "5132               Iki Hidayat     FITB      69.63      35.04      37.65\n",
      "5133  Muhammad Nashir Sitompul      FTI      79.69      39.06      50.17\n",
      "5134     Billy Richardo Sagala     STEI      68.68      51.23      66.18\n",
      "\n",
      "[5135 rows x 5 columns]\n"
     ]
    }
   ],
   "source": [
    "# Membaca data\n",
    "df = pd.read_csv('H05.csv')\n",
    "print(df) # Menampilkan data untuk memudahkan pengerjaan"
   ]
  },
  {
   "cell_type": "code",
   "execution_count": 4,
   "id": "98b13a58-499c-4229-8ed0-6b2a7fc70b0d",
   "metadata": {},
   "outputs": [
    {
     "name": "stdout",
     "output_type": "stream",
     "text": [
      "Banyaknya data adalah 5135 data.\n"
     ]
    }
   ],
   "source": [
    "# 1. Menghitung banyaknya data\n",
    "print(f'Banyaknya data adalah {len(df)} data.')"
   ]
  },
  {
   "cell_type": "code",
   "execution_count": 5,
   "id": "e5025a14-e6da-4a41-9ff0-d3e86e7a5318",
   "metadata": {},
   "outputs": [
    {
     "name": "stdout",
     "output_type": "stream",
     "text": [
      "                             nama fakultas  nilai_mat  nilai_kim  nilai_fis\n",
      "0            Farhan Fathur Rahman    FMIPA      57.21      34.14      38.93\n",
      "1                  Steven Margono    FMIPA      67.43      51.50      57.20\n",
      "2                    Ryan Sentosa    SAPPK      90.62      37.38      40.73\n",
      "3            Muhajah Babny Muslim    FMIPA      72.31      38.80      44.79\n",
      "4                Alvin Natawiguna     FTSL      65.45      57.67      56.39\n",
      "5                   Sasti Safitri     FTSL      60.58      41.91      51.55\n",
      "6             Dani Yulianto Putra     FTSL      51.67      35.05      48.69\n",
      "7  Nabila Febitsukarizky Bunyamin     FTTM      71.66      67.61      69.75\n",
      "8             Ratna Siti Khodijah      FTI      73.06      59.16      59.48\n",
      "9                    Gita Partiwi     FTSL      69.57      38.84      48.17\n"
     ]
    }
   ],
   "source": [
    "# 2. Mencari 10 data pertama\n",
    "print(df[:10])"
   ]
  },
  {
   "cell_type": "code",
   "execution_count": 6,
   "id": "3e508bd7-0f1d-4fad-9209-35e34abd01e2",
   "metadata": {},
   "outputs": [
    {
     "name": "stdout",
     "output_type": "stream",
     "text": [
      "                        nama fakultas  nilai_mat  nilai_kim  nilai_fis\n",
      "49      Alief Rizky Ramadhan    SITHS      84.59      42.44      40.48\n",
      "50      Arief Syakur Sutedjo     FTTM      84.40      61.21      73.91\n",
      "51         Fayi Raihan Saleh    FMIPA      60.62      32.57      42.34\n",
      "52          Erna Kristiawati      FTI      67.48      46.78      52.30\n",
      "53                    Albert    SAPPK      70.27      50.10      54.01\n",
      "54  M Jazztyan Indra Pradana     STEI      53.40      43.06      60.30\n",
      "55      Moch Ginanjar Busiri    FMIPA      74.29      38.44      49.15\n",
      "56              Aisya Tamara     FITB      71.49      35.86      37.41\n",
      "57        Tyas Arum Widayati    SAPPK      68.57      37.02      53.25\n",
      "58                Arif Saleh      FTI     100.00      59.79      55.33\n",
      "59     Windy Diwita Nisaekti      FTI      67.15      57.72      54.24\n"
     ]
    }
   ],
   "source": [
    "# 3. Mencari data ke 50 sampai 60 (inklusif: data ke-50, data ke-51, . . . , data ke-60).\n",
    "print(df[49:60]) # Karena index dimulai dari 0, maka data ke-50 pastilah berindex 49"
   ]
  },
  {
   "cell_type": "code",
   "execution_count": 7,
   "id": "4a5d409e-fea0-4d5e-9c1a-bdc1be5ed14d",
   "metadata": {},
   "outputs": [
    {
     "name": "stdout",
     "output_type": "stream",
     "text": [
      "FTI      834\n",
      "STEI     777\n",
      "FTSL     660\n",
      "FMIPA    627\n",
      "FTTM     579\n",
      "FTMD     480\n",
      "FITB     403\n",
      "SAPPK    315\n",
      "SITHR    282\n",
      "SITHS    178\n",
      "Name: fakultas, dtype: int64\n"
     ]
    }
   ],
   "source": [
    "# 4. Menghitung banyaknya mahasiswa tiap fakultas.\n",
    "print(df['fakultas'].value_counts())"
   ]
  },
  {
   "cell_type": "code",
   "execution_count": 8,
   "id": "5e9392e0-1649-4606-8d7d-4172b25793ee",
   "metadata": {},
   "outputs": [
    {
     "name": "stdout",
     "output_type": "stream",
     "text": [
      "Nilai korelasi antara nilai fisika dan kimia adalah  0.7988187423880274\n"
     ]
    }
   ],
   "source": [
    "# 5. Menghitung nilai korelasi antara nilai fisika dan kimia serta menjelaskan apakah berkorelasi lurus, terbalik, atau tidak berkolerasi\n",
    "print('Nilai korelasi antara nilai fisika dan kimia adalah ', df['nilai_fis'].corr(df['nilai_kim']))"
   ]
  },
  {
   "cell_type": "markdown",
   "id": "b62851e0-81d5-4f50-8bdb-0e0ee4bd36b2",
   "metadata": {},
   "source": [
    "Penjelasan:\n",
    "Berdasarkan hasil keluaran (output) dari program, kedua atribut nilai fisika dan kimia memiliki korelasi yang bernilai positif dan mendekati angka 1. Dengan demikian, dapat disimpulkan bahwa kedua atribut ini saling berbanding lurus. Semakin besar nilai fisika seorang mahasiswa, semakin besar pula nilai kimia mahasiswa tersebut."
   ]
  }
 ],
 "metadata": {
  "kernelspec": {
   "display_name": "Python 3 (ipykernel)",
   "language": "python",
   "name": "python3"
  },
  "language_info": {
   "codemirror_mode": {
    "name": "ipython",
    "version": 3
   },
   "file_extension": ".py",
   "mimetype": "text/x-python",
   "name": "python",
   "nbconvert_exporter": "python",
   "pygments_lexer": "ipython3",
   "version": "3.9.5"
  }
 },
 "nbformat": 4,
 "nbformat_minor": 5
}
