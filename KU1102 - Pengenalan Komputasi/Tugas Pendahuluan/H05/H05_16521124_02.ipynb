{
 "cells": [
  {
   "cell_type": "code",
   "execution_count": 1,
   "id": "3dc44b03-8c1a-4357-ac66-1b383ca99054",
   "metadata": {},
   "outputs": [],
   "source": [
    "# NIM/Nama : 16521124/Frendy Sanusi\n",
    "# Tanggal : 1 Desember 2021\n",
    "# Deskripsi : Problem 2 - Tugas Pendahuluan #5 Analisa dan Visualisasi Data\n",
    "                        # 1. Menghitung nilai matematika, fisika, dan kimia milik Tuan Ric.\n",
    "                        # 2. Mencari mahasiswa dengan nilai fisika tertinggi. Jika lebih dari 1, maka akan ditampilkan semua.\n",
    "                        # 3. Mencari 10 mahasiswa dengan nilai kimia tertinggi.\n",
    "                        # 4. Menghitung banyaknya nilai matematika di bawah 50.\n",
    "                        # 5. Menghitung banyaknya mahasiswa FMIPA."
   ]
  },
  {
   "cell_type": "code",
   "execution_count": 2,
   "id": "9d2c191a-32a3-44a0-b943-004b62776ca5",
   "metadata": {},
   "outputs": [],
   "source": [
    "# Import library yang dibutuhkan\n",
    "import pandas as pd"
   ]
  },
  {
   "cell_type": "code",
   "execution_count": 3,
   "id": "3e7fc926-19be-49a8-8317-1860a983fb92",
   "metadata": {},
   "outputs": [
    {
     "name": "stdout",
     "output_type": "stream",
     "text": [
      "                          nama fakultas  nilai_mat  nilai_kim  nilai_fis\n",
      "0         Farhan Fathur Rahman    FMIPA      57.21      34.14      38.93\n",
      "1               Steven Margono    FMIPA      67.43      51.50      57.20\n",
      "2                 Ryan Sentosa    SAPPK      90.62      37.38      40.73\n",
      "3         Muhajah Babny Muslim    FMIPA      72.31      38.80      44.79\n",
      "4             Alvin Natawiguna     FTSL      65.45      57.67      56.39\n",
      "...                        ...      ...        ...        ...        ...\n",
      "5130               Khoirrashif    SITHR      66.14      46.82      56.74\n",
      "5131      Jefri Hendri Adriano     FTSL      53.68      34.74      33.76\n",
      "5132               Iki Hidayat     FITB      69.63      35.04      37.65\n",
      "5133  Muhammad Nashir Sitompul      FTI      79.69      39.06      50.17\n",
      "5134     Billy Richardo Sagala     STEI      68.68      51.23      66.18\n",
      "\n",
      "[5135 rows x 5 columns]\n"
     ]
    }
   ],
   "source": [
    "# Membaca data\n",
    "df = pd.read_csv('H05.csv')\n",
    "print(df) # Menampilkan data untuk memudahkan pengerjaan"
   ]
  },
  {
   "cell_type": "code",
   "execution_count": 4,
   "id": "d0623176-009d-4caf-991d-2a55d51a349b",
   "metadata": {},
   "outputs": [
    {
     "name": "stdout",
     "output_type": "stream",
     "text": [
      "          nama fakultas  nilai_mat  nilai_kim  nilai_fis\n",
      "3513  Tuan Ric     STEI      96.78      62.23      30.53\n"
     ]
    }
   ],
   "source": [
    "# 1. Menghitung nilai matematika, fisika, dan kimia milik Tuan Ric.\n",
    "print(df.loc[df['nama'] == 'Tuan Ric'])"
   ]
  },
  {
   "cell_type": "code",
   "execution_count": 5,
   "id": "6f71180e-af77-44c7-a840-eac480955de7",
   "metadata": {},
   "outputs": [
    {
     "name": "stdout",
     "output_type": "stream",
     "text": [
      "                         nama fakultas  nilai_mat  nilai_kim  nilai_fis\n",
      "1936  Yuniar Fazriani Rusmana     FITB      53.61      67.19      92.57\n"
     ]
    }
   ],
   "source": [
    "# 2. Mencari mahasiswa dengan nilai fisika tertinggi. Jika lebih dari 1, maka akan ditampilkan semua.\n",
    "imax_fisika = df['nilai_fis'].idxmax()\n",
    "print(df[imax_fisika : imax_fisika+1])"
   ]
  },
  {
   "cell_type": "code",
   "execution_count": 6,
   "id": "5a2cee34-b88d-4f48-94e0-af4d4f797932",
   "metadata": {},
   "outputs": [
    {
     "name": "stdout",
     "output_type": "stream",
     "text": [
      "                          nama fakultas  nilai_mat  nilai_kim  nilai_fis\n",
      "2554      Faathir Reza Avicena     FTSL      57.12      81.50      78.68\n",
      "2779      Dinda A A Z Mundakir     STEI      41.18      81.34      82.60\n",
      "3544        Tammya Ayu Purnomo    SITHS      74.49      81.20      78.58\n",
      "4934    Alyssa Nadhira Windari     FTMD      78.38      78.83      78.68\n",
      "1137          Izni Nur Ibrahim     STEI      56.70      78.46      84.34\n",
      "2262      Rinaldi Oky Setiawan     STEI      71.22      77.44      83.66\n",
      "4070      Ias Azhari Rezkyarno    FMIPA      62.85      76.90      81.52\n",
      "2945           Klara Petra T T     FTSL      73.39      76.61      78.12\n",
      "1788  Naudy Germanimo Laksmana     FTMD      62.29      76.38      76.15\n",
      "1310       Mardliyahtur Rohmah     STEI      63.15      76.36      74.06\n"
     ]
    }
   ],
   "source": [
    "# 3. Mencari 10 mahasiswa dengan nilai kimia tertinggi.\n",
    "kimia_tertinggi = df.sort_values(['nilai_kim'], ascending = [0])\n",
    "print(kimia_tertinggi[:10])"
   ]
  },
  {
   "cell_type": "code",
   "execution_count": 7,
   "id": "ba242e43-d0f0-41f0-9899-1cf1f8e50e05",
   "metadata": {},
   "outputs": [
    {
     "name": "stdout",
     "output_type": "stream",
     "text": [
      "Banyaknya nilai matematika di bawah 50 adalah 329 orang.\n"
     ]
    }
   ],
   "source": [
    "# 4. Menghitung banyaknya nilai matematika di bawah 50.\n",
    "mat_under_50 = df.loc[df['nilai_mat'] < 50]\n",
    "print(f'Banyaknya nilai matematika di bawah 50 adalah {len(mat_under_50)} orang.')"
   ]
  },
  {
   "cell_type": "code",
   "execution_count": 8,
   "id": "9fa683ac-61ad-44df-a80e-f619d3d3712c",
   "metadata": {},
   "outputs": [
    {
     "name": "stdout",
     "output_type": "stream",
     "text": [
      "Banyaknya mahasiswa FMIPA adalah 627 orang.\n"
     ]
    }
   ],
   "source": [
    "# 5. Menghitung banyaknya mahasiswa FMIPA.\n",
    "print('Banyaknya mahasiswa FMIPA adalah', len(df.loc[df['fakultas'] == 'FMIPA']), 'orang.')"
   ]
  }
 ],
 "metadata": {
  "kernelspec": {
   "display_name": "Python 3 (ipykernel)",
   "language": "python",
   "name": "python3"
  },
  "language_info": {
   "codemirror_mode": {
    "name": "ipython",
    "version": 3
   },
   "file_extension": ".py",
   "mimetype": "text/x-python",
   "name": "python",
   "nbconvert_exporter": "python",
   "pygments_lexer": "ipython3",
   "version": "3.9.5"
  }
 },
 "nbformat": 4,
 "nbformat_minor": 5
}
